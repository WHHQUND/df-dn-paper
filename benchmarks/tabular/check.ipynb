{
 "cells": [
  {
   "cell_type": "code",
   "execution_count": 1,
   "metadata": {},
   "outputs": [],
   "source": [
    "import json"
   ]
  },
  {
   "cell_type": "code",
   "execution_count": 16,
   "metadata": {},
   "outputs": [
    {
     "name": "stdout",
     "output_type": "stream",
     "text": [
      "electricity: 0.8392 -> 0.8608\n",
      "eye_movements: 0.620925341745531 -> 0.6225026288117771\n",
      "covertype: 0.8236 -> 0.8344\n",
      "albert: 0.6628 -> 0.6668\n",
      "default-of-credit-card-clients: 0.7108 -> 0.7184\n",
      "road-safety: 0.764 -> 0.7616\n",
      "compas-two-years: 0.5995165189363416 -> 0.6011281224818694\n"
     ]
    }
   ],
   "source": [
    "rf_file_path = \"new_results/rf/\"\n",
    "xgbt_file_path = \"new_results/xgbt/\"\n",
    "tab_file_path = \"new_results/tabnet/\"\n",
    "ID334 = ['electricity', 'eye_movements', 'covertype', 'albert', 'default-of-credit-card-clients', 'road-safety', 'compas-two-years']\n",
    "acc_rf_df = []\n",
    "acc_rf_tuned_1hr = []\n",
    "for name in ID334:\n",
    "    with open(f\"{rf_file_path}/334/{name}/acc_df.json\") as f1:\n",
    "        acc_rf_df.append(json.load(f1))\n",
    "    with open(f\"{rf_file_path}/334/{name}/acc_tuned_1hr.json\") as f2:\n",
    "        acc_rf_tuned_1hr.append(json.load(f2))\n",
    "for i in range(len(ID334)):\n",
    "    print(f\"{ID334[i]}: {acc_rf_df[i]} -> {acc_rf_tuned_1hr[i]}\")\n"
   ]
  },
  {
   "cell_type": "code",
   "execution_count": null,
   "metadata": {},
   "outputs": [],
   "source": []
  },
  {
   "cell_type": "code",
   "execution_count": 6,
   "metadata": {},
   "outputs": [
    {
     "name": "stdout",
     "output_type": "stream",
     "text": [
      "electricity: 0.85 -> 0.8504\n",
      "eye_movements: 0.6062039957939012 -> 0.6130389064143007\n",
      "covertype: 0.8204 -> 0.8212\n",
      "albert: 0.6264 -> 0.6344\n",
      "default-of-credit-card-clients: 0.692 -> 0.7052\n",
      "road-safety: 0.7564 -> 0.7628\n",
      "compas-two-years: 0.6253021756647864 -> 0.6591458501208702\n"
     ]
    }
   ],
   "source": [
    "acc_xgbt_df = []\n",
    "acc_xgbt_tuned_1hr = []\n",
    "for name in ID334:\n",
    "    with open(f\"{xgbt_file_path}/334/{name}/acc_df.json\") as f1:\n",
    "        acc_xgbt_df.append(json.load(f1))\n",
    "    with open(f\"{xgbt_file_path}/334/{name}/acc_tuned_1hr.json\") as f2:\n",
    "        acc_xgbt_tuned_1hr.append(json.load(f2))\n",
    "\n",
    "for i in range(len(ID334)):\n",
    "    print(f\"{ID334[i]}: {acc_xgbt_df[i]} -> {acc_xgbt_tuned_1hr[i]}\")"
   ]
  },
  {
   "cell_type": "code",
   "execution_count": 21,
   "metadata": {},
   "outputs": [
    {
     "name": "stdout",
     "output_type": "stream",
     "text": [
      "electricity: 0.7684 -> 0.7756\n",
      "eye_movements: 0.5141955835962145 -> 0.5704521556256572\n",
      "covertype: 0.7984 -> 0.8168\n",
      "albert: 0.654 -> 0.6568\n",
      "default-of-credit-card-clients: 0.702 -> 0.7024\n",
      "road-safety: 0.7356 -> 0.7536\n",
      "compas-two-years: 0.6599516518936341 -> 0.6712328767123288\n"
     ]
    }
   ],
   "source": [
    "acc_tab_df = []\n",
    "acc_tab_tuned_1hr = []\n",
    "for name in ID334:\n",
    "    with open(f\"{tab_file_path}/334/{name}/acc_df.json\") as f1:\n",
    "        acc_tab_df.append(json.load(f1))\n",
    "    with open(f\"{tab_file_path}/334/{name}/acc_tuned_1hr.json\") as f2:\n",
    "        acc_tab_tuned_1hr.append(json.load(f2))\n",
    "\n",
    "for i in range(len(ID334)):\n",
    "    print(f\"{ID334[i]}: {acc_tab_df[i]} -> {acc_tab_tuned_1hr[i]}\")"
   ]
  },
  {
   "cell_type": "code",
   "execution_count": null,
   "metadata": {},
   "outputs": [],
   "source": []
  },
  {
   "cell_type": "code",
   "execution_count": null,
   "metadata": {},
   "outputs": [],
   "source": []
  }
 ],
 "metadata": {
  "kernelspec": {
   "display_name": "Jupyter Kernel",
   "language": "python",
   "name": "neurodata"
  },
  "language_info": {
   "codemirror_mode": {
    "name": "ipython",
    "version": 3
   },
   "file_extension": ".py",
   "mimetype": "text/x-python",
   "name": "python",
   "nbconvert_exporter": "python",
   "pygments_lexer": "ipython3",
   "version": "3.9.19"
  },
  "orig_nbformat": 4
 },
 "nbformat": 4,
 "nbformat_minor": 2
}
