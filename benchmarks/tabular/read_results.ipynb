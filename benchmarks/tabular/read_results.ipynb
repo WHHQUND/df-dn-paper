{
 "cells": [
  {
   "cell_type": "code",
   "execution_count": 1,
   "metadata": {},
   "outputs": [
    {
     "name": "stdout",
     "output_type": "stream",
     "text": [
      "Length of runhistory_data_CNN: 126\n",
      "CNN min 3:\n",
      "Config ID: 91, Cost: 0.0, Parameters: {'colsample_bylevel': 0.8642390315058845, 'colsample_bynode': 0.6744371857323868, 'colsample_bytree': 0.8231638391571963, 'gamma': 0.12285821924480189, 'learning_rate': 0.2983570935472409, 'max_depth': 18, 'min_child_weight': 2, 'n_estimators': 303, 'subsample': 0.7000957579941496}\n",
      "\n",
      "Config ID: 38, Cost: 0.0, Parameters: {'colsample_bylevel': 0.7489314687688858, 'colsample_bynode': 0.7521258791466592, 'colsample_bytree': 0.8684968244804285, 'gamma': 0.2187990276631488, 'learning_rate': 0.29868678173961655, 'max_depth': 14, 'min_child_weight': 2, 'n_estimators': 829, 'subsample': 0.6975304968292066}\n",
      "\n",
      "Config ID: 94, Cost: 0.0, Parameters: {'colsample_bylevel': 0.6659086792521076, 'colsample_bynode': 0.728451640434032, 'colsample_bytree': 0.8170324864355909, 'gamma': 0.14340435470572516, 'learning_rate': 0.2936068843275964, 'max_depth': 20, 'min_child_weight': 2, 'n_estimators': 769, 'subsample': 0.713474357172474}\n",
      "\n"
     ]
    }
   ],
   "source": [
    "import json\n",
    "\n",
    "\n",
    "runhistory_path = \"smac_hyperband_output_budget_1mins_XGBT/electricity/1488bd231e3f0748b7500c5e1c521d0a/0/runhistory.json\"\n",
    "\n",
    "with open(runhistory_path, \"r\") as file:\n",
    "    runhistory_data_CNN = json.load(file)\n",
    "\n",
    "print(\"Length of runhistory_data_CNN:\", len(runhistory_data_CNN[\"data\"]))\n",
    "\n",
    "configs_costs_CNN = []\n",
    "for entry in runhistory_data_CNN[\"data\"]:\n",
    "    # print(entry)\n",
    "    config_id = entry[0]  \n",
    "    cost = entry[4]  \n",
    "    configs_costs_CNN.append((entry[0], entry[4]))\n",
    "    configs_costs_CNN = list(set(configs_costs_CNN))\n",
    "\n",
    "    # print(f\"Config ID: {config_id}, Cost: {cost}\")\n",
    "    # if config_id == 44:# or config_id == 21:\n",
    "    #     params_CNN = runhistory_data_CNN[\"configs\"][str(config_id)]\n",
    "    #     # print(entry)\n",
    "    #     print(f\"CNN config ID: {config_id}, Cost: {cost}, Parameters: {params_CNN}\\n\")\n",
    "\n",
    "\n",
    "min_cost_config_CNN = []\n",
    "min_cost_config_CNN = sorted(configs_costs_CNN, key=lambda x: x[1])[:3]\n",
    "print(\"CNN min 3:\")\n",
    "for config_id, cost in min_cost_config_CNN:\n",
    "    \n",
    "    params = runhistory_data_CNN[\"configs\"][str(config_id)]\n",
    "    print(f\"Config ID: {config_id}, Cost: {cost}, Parameters: {params}\\n\")\n",
    "file.close()"
   ]
  },
  {
   "cell_type": "code",
   "execution_count": 9,
   "metadata": {},
   "outputs": [
    {
     "name": "stdout",
     "output_type": "stream",
     "text": [
      "Length of runhistory_data_CNN: 67\n",
      "CNN min 3:\n",
      "Config ID: 26, Cost: 0.1985, Parameters: {'n_a': 21, 'n_d': 119, 'verbose': 0}\n",
      "\n",
      "Config ID: 46, Cost: 0.20099999999999996, Parameters: {'n_a': 16, 'n_d': 206, 'verbose': 0}\n",
      "\n",
      "Config ID: 41, Cost: 0.20099999999999996, Parameters: {'n_a': 144, 'n_d': 171, 'verbose': 0}\n",
      "\n"
     ]
    }
   ],
   "source": [
    "runhistory_path = \"smac_hyperband_output_budget_30mins_Tab/electricity/1034c3e26c4e1b7e0b228180d63cd459/0/runhistory.json\"\n",
    "\n",
    "with open(runhistory_path, \"r\") as file:\n",
    "    runhistory_data_CNN = json.load(file)\n",
    "\n",
    "print(\"Length of runhistory_data_CNN:\", len(runhistory_data_CNN[\"data\"]))\n",
    "\n",
    "configs_costs_CNN = []\n",
    "for entry in runhistory_data_CNN[\"data\"]:\n",
    "    # print(entry)\n",
    "    config_id = entry[0]  \n",
    "    cost = entry[4]  \n",
    "    configs_costs_CNN.append((entry[0], entry[4]))\n",
    "    configs_costs_CNN = list(set(configs_costs_CNN))\n",
    "\n",
    "    # print(f\"Config ID: {config_id}, Cost: {cost}\")\n",
    "    # if config_id == 44:# or config_id == 21:\n",
    "    #     params_CNN = runhistory_data_CNN[\"configs\"][str(config_id)]\n",
    "    #     # print(entry)\n",
    "    #     print(f\"CNN config ID: {config_id}, Cost: {cost}, Parameters: {params_CNN}\\n\")\n",
    "\n",
    "\n",
    "min_cost_config_CNN = []\n",
    "min_cost_config_CNN = sorted(configs_costs_CNN, key=lambda x: x[1])[:3]\n",
    "print(\"CNN min 3:\")\n",
    "for config_id, cost in min_cost_config_CNN:\n",
    "    \n",
    "    params = runhistory_data_CNN[\"configs\"][str(config_id)]\n",
    "    print(f\"Config ID: {config_id}, Cost: {cost}, Parameters: {params}\\n\")\n",
    "file.close()\n"
   ]
  },
  {
   "cell_type": "code",
   "execution_count": 12,
   "metadata": {},
   "outputs": [
    {
     "data": {
      "text/plain": [
       "array([25, 19, 15, 12,  9,  7,  6,  5])"
      ]
     },
     "execution_count": 12,
     "metadata": {},
     "output_type": "execute_result"
    }
   ],
   "source": []
  },
  {
   "cell_type": "code",
   "execution_count": null,
   "metadata": {},
   "outputs": [],
   "source": []
  }
 ],
 "metadata": {
  "kernelspec": {
   "display_name": "Jupyter Kernel",
   "language": "python",
   "name": "neurodata"
  },
  "language_info": {
   "codemirror_mode": {
    "name": "ipython",
    "version": 3
   },
   "file_extension": ".py",
   "mimetype": "text/x-python",
   "name": "python",
   "nbconvert_exporter": "python",
   "pygments_lexer": "ipython3",
   "version": "3.9.19"
  },
  "orig_nbformat": 4
 },
 "nbformat": 4,
 "nbformat_minor": 2
}
